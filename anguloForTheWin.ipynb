{
 "cells": [
  {
   "cell_type": "code",
   "execution_count": 1,
   "metadata": {
    "collapsed": false,
    "scrolled": true
   },
   "outputs": [],
   "source": [
    "import pandas as pd\n",
    "import numpy as np\n",
    "import matplotlib.pyplot as plt\n",
    "import seaborn as sns\n",
    "from sklearn.model_selection import train_test_split\n",
    "from sklearn.model_selection import cross_val_score\n",
    "from sklearn import preprocessing\n",
    "from sklearn import linear_model\n",
    "%matplotlib inline"
   ]
  },
  {
   "cell_type": "code",
   "execution_count": 107,
   "metadata": {
    "collapsed": false
   },
   "outputs": [],
   "source": [
    "data = pd.read_csv('Credit.csv', index_col=0)\n",
    "\n",
    "\n"
   ]
  },
  {
   "cell_type": "code",
   "execution_count": 4,
   "metadata": {
    "collapsed": true
   },
   "outputs": [],
   "source": [
    "X=data[['Income', 'Limit', 'Rating', 'Cards', 'Age', 'Gender','Education']]\n",
    "Y=data['Balance']"
   ]
  },
  {
   "cell_type": "code",
   "execution_count": 15,
   "metadata": {
    "collapsed": false
   },
   "outputs": [
    {
     "name": "stdout",
     "output_type": "stream",
     "text": [
      "193\n",
      "207\n"
     ]
    }
   ],
   "source": [
    "\n",
    "male = data[data.Gender == \" Male\"]\n",
    "\n",
    "malex = male[['Income', 'Limit', 'Rating', 'Cards', 'Age', 'Education']]\n",
    "maley = male['Balance']\n",
    "\n",
    "female = data[data.Gender == \"Female\"]\n",
    "femalex = female[['Income', 'Limit', 'Rating', 'Cards', 'Age','Education']]\n",
    "femaley = female['Balance']\n"
   ]
  },
  {
   "cell_type": "code",
   "execution_count": 16,
   "metadata": {
    "collapsed": false
   },
   "outputs": [],
   "source": [
    "scaler = preprocessing.StandardScaler().fit(malex)\n",
    "malex= scaler.transform(malex)\n",
    "\n",
    "maley = maley-np.mean(maley)\n",
    "\n",
    "maley= maley/(np.var(maley)**0.5)\n",
    "\n",
    "scaler = preprocessing.StandardScaler().fit(femalex)\n",
    "femalex= scaler.transform(femalex)\n",
    "femaley = femaley-np.mean(femaley)\n",
    "\n",
    "femaley= femaley/(np.var(femaley)**0.5)\n"
   ]
  },
  {
   "cell_type": "code",
   "execution_count": 48,
   "metadata": {
    "collapsed": false
   },
   "outputs": [],
   "source": [
    "maleX_train, maleX_test, maleY_train, maleY_test = train_test_split(malex, maley, random_state=1)\n",
    "femaleX_train, femaleX_test, femaleY_train, femaleY_test = train_test_split(femalex, femaley, random_state=1)"
   ]
  },
  {
   "cell_type": "code",
   "execution_count": 94,
   "metadata": {
    "collapsed": false
   },
   "outputs": [],
   "source": [
    "def betas(xtest,ytest,xtrain,ytrain):\n",
    "    alphas = np.linspace(0,0.01,1000)\n",
    "    betas = []\n",
    "    scorete =  []\n",
    "\n",
    "    scoretra = []\n",
    "    for i in alphas:\n",
    "        clf = linear_model.Lasso(alpha=i)\n",
    "        clf.fit(xtrain, ytrain)\n",
    "        beta=[]\n",
    "        beta.append(clf.intercept_)\n",
    "        for i in clf.coef_:\n",
    "            beta.append(i)\n",
    "        betas.append(beta)\n",
    "        scorete.append(clf.score(xtest, ytest))\n",
    "        scoretra.append(clf.score(xtrain, ytrain))\n",
    "    scorete = np.array(scorete)\n",
    "    scoretra = np.array(scoretra)\n",
    "    suma = scorete+scoretra \n",
    "    ind = (np.where(suma == np.max(suma))[0][0])\n",
    "    losBetas =betas[ind]\n",
    "    elAlpha = alphas[ind]\n",
    "    return losBetas\n",
    "\n",
    "def angulo(xtest,ytest,xtrain,ytrain,xtest1,ytest1,xtrain1,ytrain1):\n",
    "    betas0 = betas(xtest,ytest,xtrain,ytrain)\n",
    "    betas1 = betas(xtest1,ytest1,xtrain1,ytrain1)\n",
    "    pdot = 0\n",
    "    \n",
    "    for i in range(len(betas0)):\n",
    "        pdot += betas0[i]*betas1[i]\n",
    "\n",
    "    pdot /= np.linalg.norm(betas0)\n",
    "    pdot /= np.linalg.norm(betas1)\n",
    "    pdot = np.arccos(pdot)*180/np.pi\n",
    "    return pdot"
   ]
  },
  {
   "cell_type": "code",
   "execution_count": 82,
   "metadata": {
    "collapsed": false
   },
   "outputs": [],
   "source": [
    "def predictor(xs,betas):\n",
    "    ans = betas[0]\n",
    "    for i in range(len(xs)):\n",
    "        ans += betas[i+1]*xs[i]\n",
    "    return ans"
   ]
  },
  {
   "cell_type": "code",
   "execution_count": 96,
   "metadata": {
    "collapsed": false
   },
   "outputs": [
    {
     "name": "stderr",
     "output_type": "stream",
     "text": [
      "/home/mauro/anaconda3/lib/python3.5/site-packages/ipykernel/__main__.py:9: UserWarning: With alpha=0, this algorithm does not converge well. You are advised to use the LinearRegression estimator\n",
      "/home/mauro/anaconda3/lib/python3.5/site-packages/sklearn/linear_model/coordinate_descent.py:470: UserWarning: Coordinate descent with alpha=0 may lead to unexpected results and is discouraged.\n",
      "  positive)\n",
      "/home/mauro/anaconda3/lib/python3.5/site-packages/sklearn/linear_model/coordinate_descent.py:484: ConvergenceWarning: Objective did not converge. You might want to increase the number of iterations. Fitting data with very small alpha may cause precision problems.\n",
      "  ConvergenceWarning)\n"
     ]
    }
   ],
   "source": [
    "anguloEspecial = (angulo(maleX_test,maleY_test,maleX_train,maleY_train,femaleX_test,femaleY_test,femaleX_train,femaleY_train))"
   ]
  },
  {
   "cell_type": "code",
   "execution_count": 138,
   "metadata": {
    "collapsed": true
   },
   "outputs": [],
   "source": [
    "histograma=[]"
   ]
  },
  {
   "cell_type": "code",
   "execution_count": 142,
   "metadata": {
    "collapsed": false
   },
   "outputs": [
    {
     "name": "stderr",
     "output_type": "stream",
     "text": [
      "/home/mauro/anaconda3/lib/python3.5/site-packages/ipykernel/__main__.py:9: UserWarning: With alpha=0, this algorithm does not converge well. You are advised to use the LinearRegression estimator\n",
      "/home/mauro/anaconda3/lib/python3.5/site-packages/sklearn/linear_model/coordinate_descent.py:470: UserWarning: Coordinate descent with alpha=0 may lead to unexpected results and is discouraged.\n",
      "  positive)\n",
      "/home/mauro/anaconda3/lib/python3.5/site-packages/sklearn/linear_model/coordinate_descent.py:484: ConvergenceWarning: Objective did not converge. You might want to increase the number of iterations. Fitting data with very small alpha may cause precision problems.\n",
      "  ConvergenceWarning)\n"
     ]
    }
   ],
   "source": [
    "\n",
    "for i in range(200):\n",
    "    data =data.sample(frac=1)\n",
    "    datasub1 = data[0:int(len(data)*0.5)]\n",
    "    datasub2 = data[int(len(data)*0.5):]\n",
    "    X1=datasub1[['Income', 'Limit', 'Rating', 'Cards', 'Age','Education']]\n",
    "    Y1=datasub1['Balance']\n",
    "    X2=datasub2[['Income', 'Limit', 'Rating', 'Cards', 'Age','Education']]\n",
    "    Y2=datasub2['Balance']\n",
    "    scaler = preprocessing.StandardScaler().fit(X1)\n",
    "    X1= scaler.transform(X1)\n",
    "    Y1 = Y1-np.mean(Y1)\n",
    "\n",
    "    Y1= Y1/(np.var(Y1)**0.5)\n",
    "\n",
    "    scaler = preprocessing.StandardScaler().fit(X2)\n",
    "    X2= scaler.transform(X2)\n",
    "    Y2 = Y2-np.mean(Y2)\n",
    "\n",
    "    Y2= Y2/(np.var(Y2)**0.5)\n",
    "    \n",
    "    \n",
    "    x1train, x1test, y1train, y1test = train_test_split(X1, Y1, random_state=1)\n",
    "    x2train, x2test, y2train, y2test = train_test_split(X2, Y2, random_state=1)\n",
    "    \n",
    "    agregar = angulo(x1test,y1test,x1train,y1train,x2test,y2test,x2train,y2train)\n",
    "    histograma.append(agregar)"
   ]
  },
  {
   "cell_type": "code",
   "execution_count": 140,
   "metadata": {
    "collapsed": false
   },
   "outputs": [
    {
     "name": "stdout",
     "output_type": "stream",
     "text": [
      "[46.003211721321001, 81.294884870614723, 68.814113944781695, 7.5898834335332683, 6.4910732323312041, 11.332590540214118, 69.459859106236678, 33.647746529916411, 12.888418220326292, 5.3641598275323226, 26.168295746413726, 49.562751733414949, 3.031740564541364, 73.080187761611185, 82.762114858584752, 55.576491451755366, 70.634884383096633, 41.20298577766475, 46.207417915336663, 15.824561939352899, 28.246426051734225, 40.719863214952063, 74.189939280418301, 69.61550554982297, 42.412947799880357, 33.578773091779368, 16.124788429219958, 29.395585605759525, 68.700786848648718, 22.468600278139121, 49.391023026642394, 45.55602417354455, 59.227559498912164, 90.882582991897891, 51.599214108937197, 82.228355421021163, 9.3045247959214112, 28.161831779787263, 6.9344441786230533, 15.838078828225395, 18.703182656593022, 63.852434425432179, 4.1596174926767135, 67.884250201470195, 58.189331904298143, 15.836681166422448, 16.035947177957869, 10.581442745027582, 5.8923627745401923, 31.433475939905406, 8.0473049699424912, 12.76478115158041, 17.292049605457816, 58.405284684615737, 33.441768461616711, 8.7386668413431323, 64.126160519445136, 8.7897891291495114, 9.2402420374688905, 32.479120400278454, 6.9463823323973433, 62.046441152682618, 23.337609521715645, 19.371343714918272, 31.885834811892202, 10.499823327346229, 54.757156791897124, 31.065628042006274, 38.052687324731984, 35.288815427803797, 7.8625435143841953, 7.9580976363324352, 36.702175941363308, 31.211574336347141, 36.289214833559562, 12.174181880560077, 54.865498330809679, 7.5745711200896819, 65.360708028362879, 20.090294414813943, 27.042445873653179, 36.048640693661127, 19.201005708905004, 30.655468838164037, 5.1860720255954753, 33.640907974890318, 51.92856294339056, 31.800717986597046, 33.924153279209072, 7.1551408265670711, 41.576794789419736, 32.124187001015514, 5.4896804778661608, 46.070410029042726, 44.633929787728853, 17.389926486672437, 21.557168236152386, 11.909880836359285, 7.2599685966583127, 28.963669924579818]\n"
     ]
    }
   ],
   "source": [
    "print(histograma)"
   ]
  },
  {
   "cell_type": "code",
   "execution_count": 143,
   "metadata": {
    "collapsed": false
   },
   "outputs": [
    {
     "data": {
      "text/plain": [
       "(array([ 0.01138293,  0.02561159,  0.04268599,  0.02276586,  0.01992013,\n",
       "         0.01422866,  0.00569147,  0.03414879,  0.01138293,  0.01422866,\n",
       "         0.0085372 ,  0.01138293,  0.00569147,  0.0170744 ,  0.0170744 ,\n",
       "         0.01422866,  0.02845733,  0.02276586,  0.01422866,  0.01422866,\n",
       "         0.00569147,  0.01138293,  0.01422866,  0.0170744 ,  0.0170744 ,\n",
       "         0.00284573,  0.00569147,  0.01138293,  0.00284573,  0.01138293,\n",
       "         0.00284573,  0.01138293,  0.00284573,  0.01422866,  0.0170744 ,\n",
       "         0.00569147,  0.00569147,  0.01138293,  0.00569147,  0.00569147,\n",
       "         0.00284573,  0.        ,  0.00284573,  0.00284573,  0.01422866,\n",
       "         0.00569147,  0.        ,  0.        ,  0.        ,  0.00284573]),\n",
       " array([  3.03174056,   4.78875741,   6.54577426,   8.30279111,\n",
       "         10.05980796,  11.81682481,  13.57384166,  15.3308585 ,\n",
       "         17.08787535,  18.8448922 ,  20.60190905,  22.3589259 ,\n",
       "         24.11594275,  25.8729596 ,  27.62997644,  29.38699329,\n",
       "         31.14401014,  32.90102699,  34.65804384,  36.41506069,\n",
       "         38.17207754,  39.92909438,  41.68611123,  43.44312808,\n",
       "         45.20014493,  46.95716178,  48.71417863,  50.47119548,\n",
       "         52.22821232,  53.98522917,  55.74224602,  57.49926287,\n",
       "         59.25627972,  61.01329657,  62.77031342,  64.52733026,\n",
       "         66.28434711,  68.04136396,  69.79838081,  71.55539766,\n",
       "         73.31241451,  75.06943135,  76.8264482 ,  78.58346505,\n",
       "         80.3404819 ,  82.09749875,  83.8545156 ,  85.61153245,\n",
       "         87.36854929,  89.12556614,  90.88258299]),\n",
       " <a list of 50 Patch objects>)"
      ]
     },
     "execution_count": 143,
     "metadata": {},
     "output_type": "execute_result"
    },
    {
     "data": {
      "image/png": "[encoded data removed]",
      "text/plain": [
       "<matplotlib.figure.Figure at 0x7fd263bf7588>"
      ]
     },
     "metadata": {},
     "output_type": "display_data"
    }
   ],
   "source": [
    "plt.hist(histograma,bins = 50,normed=1)"
   ]
  },
  {
   "cell_type": "markdown",
   "metadata": {},
   "source": [
    "El valor el angulo que obtuvimos entre hombres y mujeres fue de:"
   ]
  },
  {
   "cell_type": "code",
   "execution_count": 135,
   "metadata": {
    "collapsed": false
   },
   "outputs": [
    {
     "name": "stdout",
     "output_type": "stream",
     "text": [
      "38.7557850331\n"
     ]
    }
   ],
   "source": [
    "print(anguloEspecial)"
   ]
  },
  {
   "cell_type": "markdown",
   "metadata": {},
   "source": [
    "Ahora, en teoría, deberiamos sacar la distribución de probabilidad dada por el histograma de los angulos. Sin embargo, a simple vista se puede ver que por ruido, el angulo cae detro del cuerpo principal de la funcion de probabilidad. Así pues, concluimos que NO hay una diferencia significativa entre las funciones que determinan el balance de la cuenta bancaria entre hombres y mujeres."
   ]
  },
  {
   "cell_type": "code",
   "execution_count": null,
   "metadata": {
    "collapsed": true
   },
   "outputs": [],
   "source": []
  }
 ],
 "metadata": {
  "anaconda-cloud": {},
  "kernelspec": {
   "display_name": "Python [Root]",
   "language": "python",
   "name": "Python [Root]"
  },
  "language_info": {
   "codemirror_mode": {
    "name": "ipython",
    "version": 3
   },
   "file_extension": ".py",
   "mimetype": "text/x-python",
   "name": "python",
   "nbconvert_exporter": "python",
   "pygments_lexer": "ipython3",
   "version": "3.5.2"
  }
 },
 "nbformat": 4,
 "nbformat_minor": 0
}
